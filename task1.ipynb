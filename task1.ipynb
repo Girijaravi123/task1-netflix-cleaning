{
  "nbformat": 4,
  "nbformat_minor": 0,
  "metadata": {
    "colab": {
      "provenance": []
    },
    "kernelspec": {
      "name": "python3",
      "display_name": "Python 3"
    },
    "language_info": {
      "name": "python"
    }
  },
  "cells": [
    {
      "cell_type": "code",
      "execution_count": 11,
      "metadata": {
        "id": "g1RChY3VfDNy"
      },
      "outputs": [],
      "source": [
        "import pandas as pd\n",
        "\n",
        "# Load dataset\n",
        "df = pd.read_csv('/content/netflix_titles.csv')\n",
        "\n",
        "# Check for nulls\n",
        "df.isnull().sum()\n",
        "\n",
        "# Fill missing values\n",
        "df['director'] = df['director'].fillna('Unknown')\n",
        "\n",
        "# Save cleaned dataset\n",
        "df.to_csv('/content/netflix_cleaned.csv', index=False)\n"
      ]
    },
    {
      "cell_type": "code",
      "source": [
        "df['cast'] = df['cast'].fillna('Not Available')\n",
        "df['country'] = df['country'].fillna('Unknown')\n",
        "df['date_added'] = pd.to_datetime(df['date_added'], errors='coerce')\n"
      ],
      "metadata": {
        "id": "hIfEqwOcgzlp"
      },
      "execution_count": 12,
      "outputs": []
    },
    {
      "cell_type": "code",
      "source": [
        "df = df.drop_duplicates()\n"
      ],
      "metadata": {
        "id": "7i0sVbRdg2uA"
      },
      "execution_count": 13,
      "outputs": []
    },
    {
      "cell_type": "code",
      "source": [
        "df.columns = df.columns.str.strip().str.lower().str.replace(' ', '_')\n"
      ],
      "metadata": {
        "id": "_JgTBqsthAY3"
      },
      "execution_count": 14,
      "outputs": []
    },
    {
      "cell_type": "code",
      "source": [
        "df.to_csv('/content/netflix_cleaned.csv', index=False)\n"
      ],
      "metadata": {
        "id": "N0XRRvlfhJtG"
      },
      "execution_count": 15,
      "outputs": []
    }
  ]
}